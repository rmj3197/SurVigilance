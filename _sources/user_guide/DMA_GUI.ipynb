{
 "cells": [
  {
   "cell_type": "markdown",
   "id": "cc0fe03c",
   "metadata": {},
   "source": [
    "# Usage Instructions for Downloading Data from DMA using SurVigilance"
   ]
  },
  {
   "cell_type": "code",
   "execution_count": 1,
   "id": "3e5ef1ec",
   "metadata": {},
   "outputs": [],
   "source": [
    "## Instantiating the Application\n",
    "\n",
    "# uncomment the below code to instantiate the application on a local machine\n",
    "\"\"\"\n",
    "from SurVigilance.ui import UI\n",
    "UI().run()\n",
    "\"\"\";"
   ]
  },
  {
   "cell_type": "markdown",
   "id": "b742f625",
   "metadata": {},
   "source": [
    "The above code will display the landing page of the dashboard application as shown below."
   ]
  },
  {
   "cell_type": "markdown",
   "id": "bc69c374",
   "metadata": {},
   "source": [
    "![Dashboard Landing Page](../_static/images/Landing-Page.png)\n",
    "\n",
    "On the landing page, once the user clicks on the \"DMA\" page, the page shown below opens. On this page, the user can input the drug of interest. Here we download data for the drug \"Paracetamol\". "
   ]
  },
  {
   "cell_type": "markdown",
   "id": "b361f57c",
   "metadata": {},
   "source": [
    "![DMA1](../_static/images/DMA1.png)"
   ]
  },
  {
   "cell_type": "markdown",
   "id": "b105b974",
   "metadata": {},
   "source": [
    "Once the user clicks on the \"search\" button, the code in the backend starts to parse and collect data on \"Paracetamol\" from the DMA database as shown below.\n",
    "\n",
    "![DMA3](../_static/images/DMA3.png)"
   ]
  },
  {
   "cell_type": "markdown",
   "id": "22e30b32",
   "metadata": {},
   "source": [
    "Once the data collection is completed, the data is displayed and a CSV file can also be found at the location where the downloaded data is stored. \n",
    "\n",
    "![DMA4](../_static/images/DMA4.png)"
   ]
  }
 ],
 "metadata": {
  "language_info": {
   "name": "python"
  }
 },
 "nbformat": 4,
 "nbformat_minor": 5
}
