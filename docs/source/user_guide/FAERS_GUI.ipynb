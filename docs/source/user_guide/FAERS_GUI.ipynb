{
 "cells": [
  {
   "cell_type": "markdown",
   "id": "cc0fe03c",
   "metadata": {},
   "source": [
    "# **Usage Instructions for Downloading Data from FAERS using SurVigilance**"
   ]
  },
  {
   "cell_type": "markdown",
   "id": "b5836425",
   "metadata": {},
   "source": [
    "## Instantiating the Application\n"
   ]
  },
  {
   "cell_type": "code",
   "execution_count": 2,
   "id": "3e5ef1ec",
   "metadata": {},
   "outputs": [],
   "source": [
    "# uncomment the below code to instantiate the application on a local machine\n",
    "\"\"\"\n",
    "from SurVigilance.ui import UI\n",
    "UI().run()\n",
    "\"\"\";"
   ]
  },
  {
   "cell_type": "markdown",
   "id": "b742f625",
   "metadata": {},
   "source": [
    "The above code will display the landing page of the dashboard application as shown below -"
   ]
  },
  {
   "cell_type": "markdown",
   "id": "bc69c374",
   "metadata": {},
   "source": [
    "![Dashboard Landing Page](../_static/images/Landing-Page.png)\n",
    "\n",
    "On the landing page, once the user clicks on the \"FAERS\" page, the page shown below opens. "
   ]
  },
  {
   "cell_type": "markdown",
   "id": "b361f57c",
   "metadata": {},
   "source": [
    "On the FAERS page, the user should click on the \"List all FAERS years and available quarters\" button to list all quarters for which data can be downloaded is shown. \n",
    "![Dashboard Landing Page](../_static/images/FAERS2.png)"
   ]
  },
  {
   "cell_type": "markdown",
   "id": "b105b974",
   "metadata": {},
   "source": [
    "Once al available quarters are shown, we select the year Q1 2025, and the application then shows the download button to download the data. \n",
    "\n",
    "![Dashboard Landing Page](../_static/images/FAERS3.png)"
   ]
  },
  {
   "cell_type": "markdown",
   "id": "22e30b32",
   "metadata": {},
   "source": [
    "Once the user clicks on the Download button, download process begins. \n",
    "\n",
    "![Dashboard Landing Page](../_static/images/FAERS4.png)"
   ]
  },
  {
   "cell_type": "markdown",
   "id": "5451aa10",
   "metadata": {},
   "source": [
    "Once the data is downloaded, success message is shown to the user alongwith the location where the data is stored. \n",
    "\n",
    "![Dashboard Landing Page](../_static/images/FAERS5.png)"
   ]
  }
 ],
 "metadata": {
  "language_info": {
   "name": "python"
  }
 },
 "nbformat": 4,
 "nbformat_minor": 5
}
