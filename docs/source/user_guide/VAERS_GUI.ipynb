{
 "cells": [
  {
   "cell_type": "markdown",
   "id": "cc0fe03c",
   "metadata": {},
   "source": [
    "# **Usage Instructions for Downloading Data from VAERS using SurVigilance**"
   ]
  },
  {
   "cell_type": "markdown",
   "id": "b5836425",
   "metadata": {},
   "source": [
    "## Instantiating the Application\n"
   ]
  },
  {
   "cell_type": "code",
   "execution_count": 2,
   "id": "3e5ef1ec",
   "metadata": {},
   "outputs": [],
   "source": [
    "# uncomment the below code to instantiate the application on a local machine\n",
    "\"\"\"\n",
    "from SurVigilance.ui import UI\n",
    "UI().run()\n",
    "\"\"\";"
   ]
  },
  {
   "cell_type": "markdown",
   "id": "b742f625",
   "metadata": {},
   "source": [
    "## Landing Page\n",
    "\n",
    "The above code will display the landing page of the dashboard application as shown below -"
   ]
  },
  {
   "cell_type": "markdown",
   "id": "bc69c374",
   "metadata": {},
   "source": [
    "![Dashboard Landing Page](../_static/images/Landing-Page.png)\n",
    "\n",
    "On the landing page, once the user clicks on the \"VAERS\" page, the page shown below opens. "
   ]
  },
  {
   "cell_type": "markdown",
   "id": "b361f57c",
   "metadata": {},
   "source": [
    "On the VAERS page, years for which data can be downloaded is shown. \n",
    "![Dashboard Landing Page](../_static/images/VAERS1.png)"
   ]
  },
  {
   "cell_type": "markdown",
   "id": "b105b974",
   "metadata": {},
   "source": [
    "We select the year 2025, and the application then shows the download button to download the data. \n",
    "\n",
    "![Dashboard Landing Page](../_static/images/VAERS2.png)"
   ]
  },
  {
   "cell_type": "markdown",
   "id": "22e30b32",
   "metadata": {},
   "source": [
    "Once the user clicks on the Download button, download process begins. \n",
    "\n",
    "![Dashboard Landing Page](../_static/images/VAERS3.png)"
   ]
  },
  {
   "cell_type": "markdown",
   "id": "65850136",
   "metadata": {},
   "source": [
    "A new window then opens up where the user needds to input the CAPTCHA so that the requested data can be downloaded. The user needs to manually type the shown CAPTCHa into the input text box and click on the \"Download File\" button shown on the page. \n",
    "\n",
    "![Dashboard Landing Page](../_static/images/VAERS5.png)"
   ]
  },
  {
   "cell_type": "markdown",
   "id": "5451aa10",
   "metadata": {},
   "source": [
    "Once the data is downloaded, success message is shown to the user alongwith the location where the data is stored. \n",
    "\n",
    "![Dashboard Landing Page](../_static/images/VAERS6.png)"
   ]
  },
  {
   "cell_type": "markdown",
   "id": "9374ccb0",
   "metadata": {},
   "source": []
  }
 ],
 "metadata": {
  "language_info": {
   "name": "python"
  }
 },
 "nbformat": 4,
 "nbformat_minor": 5
}
